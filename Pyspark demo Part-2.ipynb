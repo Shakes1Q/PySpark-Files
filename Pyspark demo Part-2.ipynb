{
 "cells": [
  {
   "cell_type": "code",
   "execution_count": 2,
   "id": "c21b3463",
   "metadata": {},
   "outputs": [],
   "source": [
    "from pyspark.sql import SparkSession"
   ]
  },
  {
   "cell_type": "code",
   "execution_count": 3,
   "id": "1f16e962",
   "metadata": {},
   "outputs": [],
   "source": [
    "spark=SparkSession.builder.appName('United11').getOrCreate()"
   ]
  },
  {
   "cell_type": "code",
   "execution_count": 4,
   "id": "fdf39414",
   "metadata": {},
   "outputs": [],
   "source": [
    "df_pyspark=spark.read.csv('Bill.csv', header=True,inferSchema=True)"
   ]
  },
  {
   "cell_type": "code",
   "execution_count": 9,
   "id": "a9309589",
   "metadata": {},
   "outputs": [
    {
     "name": "stdout",
     "output_type": "stream",
     "text": [
      "+-----------+-------------+----------+---------------------+--------------+\n",
      "|customer-id|customer_name|billing_id|billing_creation_date|billing amount|\n",
      "+-----------+-------------+----------+---------------------+--------------+\n",
      "|          1|            A|       id1|           10/10/2020|      $100.00 |\n",
      "|          1|            A|       id2|           11/11/2020|      $150.00 |\n",
      "|          1|            A|       id3|           12/11/2021|      $100.00 |\n",
      "|          2|            B|       id4|           10/11/2019|      $150.00 |\n",
      "|          2|            B|       id5|           11/11/2020|      $200.00 |\n",
      "|          2|            B|       id6|           12/11/2021|      $250.00 |\n",
      "|          3|            C|       id7|             1/1/2018|      $100.00 |\n",
      "|          3|            C|       id8|             5/1/2019|      $250.00 |\n",
      "|          3|            C|       id9|             6/1/2021|      $300.00 |\n",
      "|       null|         null|      null|                 null|          null|\n",
      "+-----------+-------------+----------+---------------------+--------------+\n",
      "\n"
     ]
    }
   ],
   "source": [
    "df_pyspark.show(10)"
   ]
  },
  {
   "cell_type": "code",
   "execution_count": 7,
   "id": "d6ba124b",
   "metadata": {},
   "outputs": [
    {
     "name": "stdout",
     "output_type": "stream",
     "text": [
      "+-----------+----------+---------------------+--------------+\n",
      "|customer-id|billing_id|billing_creation_date|billing amount|\n",
      "+-----------+----------+---------------------+--------------+\n",
      "|          1|       id1|           10/10/2020|      $100.00 |\n",
      "|          1|       id2|           11/11/2020|      $150.00 |\n",
      "|          1|       id3|           12/11/2021|      $100.00 |\n",
      "+-----------+----------+---------------------+--------------+\n",
      "only showing top 3 rows\n",
      "\n"
     ]
    }
   ],
   "source": [
    "##drop the columns\n",
    "df_pyspark.drop('customer_name').show(3)"
   ]
  },
  {
   "cell_type": "code",
   "execution_count": 8,
   "id": "bad069c8",
   "metadata": {
    "scrolled": true
   },
   "outputs": [
    {
     "name": "stdout",
     "output_type": "stream",
     "text": [
      "+-----------+-------------+----------+---------------------+--------------+\n",
      "|customer-id|customer_name|billing_id|billing_creation_date|billing amount|\n",
      "+-----------+-------------+----------+---------------------+--------------+\n",
      "|          1|            A|       id1|           10/10/2020|      $100.00 |\n",
      "|          1|            A|       id2|           11/11/2020|      $150.00 |\n",
      "|          1|            A|       id3|           12/11/2021|      $100.00 |\n",
      "|          2|            B|       id4|           10/11/2019|      $150.00 |\n",
      "|          2|            B|       id5|           11/11/2020|      $200.00 |\n",
      "|          2|            B|       id6|           12/11/2021|      $250.00 |\n",
      "|          3|            C|       id7|             1/1/2018|      $100.00 |\n",
      "|          3|            C|       id8|             5/1/2019|      $250.00 |\n",
      "|          3|            C|       id9|             6/1/2021|      $300.00 |\n",
      "+-----------+-------------+----------+---------------------+--------------+\n",
      "\n"
     ]
    }
   ],
   "source": [
    "## drop null values\n",
    "df_pyspark.na.drop().show()"
   ]
  },
  {
   "cell_type": "code",
   "execution_count": 14,
   "id": "4d7ec228",
   "metadata": {},
   "outputs": [
    {
     "name": "stdout",
     "output_type": "stream",
     "text": [
      "+-----------+-------------+----------+---------------------+--------------+\n",
      "|customer-id|customer_name|billing_id|billing_creation_date|billing amount|\n",
      "+-----------+-------------+----------+---------------------+--------------+\n",
      "|          1|            A|       id1|           10/10/2020|      $100.00 |\n",
      "|          1|            A|       id2|           11/11/2020|      $150.00 |\n",
      "|          1|            A|       id3|           12/11/2021|      $100.00 |\n",
      "|          2|            B|       id4|           10/11/2019|      $150.00 |\n",
      "|          2|            B|       id5|           11/11/2020|      $200.00 |\n",
      "|          2|            B|       id6|           12/11/2021|      $250.00 |\n",
      "|          3|            C|       id7|             1/1/2018|      $100.00 |\n",
      "|          3|            C|       id8|             5/1/2019|      $250.00 |\n",
      "|          3|            C|       id9|             6/1/2021|      $300.00 |\n",
      "+-----------+-------------+----------+---------------------+--------------+\n",
      "\n"
     ]
    }
   ],
   "source": [
    "## any==how (drop any null)\n",
    "df_pyspark.na.drop(how=\"any\").show()"
   ]
  },
  {
   "cell_type": "code",
   "execution_count": 15,
   "id": "eb73d93d",
   "metadata": {},
   "outputs": [
    {
     "name": "stdout",
     "output_type": "stream",
     "text": [
      "+-----------+-------------+----------+---------------------+--------------+\n",
      "|customer-id|customer_name|billing_id|billing_creation_date|billing amount|\n",
      "+-----------+-------------+----------+---------------------+--------------+\n",
      "|          1|            A|       id1|           10/10/2020|      $100.00 |\n",
      "|          1|            A|       id2|           11/11/2020|      $150.00 |\n",
      "|          1|            A|       id3|           12/11/2021|      $100.00 |\n",
      "|          2|            B|       id4|           10/11/2019|      $150.00 |\n",
      "|          2|            B|       id5|           11/11/2020|      $200.00 |\n",
      "|          2|            B|       id6|           12/11/2021|      $250.00 |\n",
      "|          3|            C|       id7|             1/1/2018|      $100.00 |\n",
      "|          3|            C|       id8|             5/1/2019|      $250.00 |\n",
      "|          3|            C|       id9|             6/1/2021|      $300.00 |\n",
      "+-----------+-------------+----------+---------------------+--------------+\n",
      "\n"
     ]
    }
   ],
   "source": [
    "## subset\n",
    "df_pyspark.na.drop(how=\"any\", subset=['billing_id']).show()"
   ]
  },
  {
   "cell_type": "code",
   "execution_count": 21,
   "id": "1caf1f33",
   "metadata": {},
   "outputs": [
    {
     "name": "stdout",
     "output_type": "stream",
     "text": [
      "+-----------+--------------+--------------+---------------------+--------------+\n",
      "|customer-id| customer_name|    billing_id|billing_creation_date|billing amount|\n",
      "+-----------+--------------+--------------+---------------------+--------------+\n",
      "|          1|             A|           id1|           10/10/2020|      $100.00 |\n",
      "|          1|             A|           id2|           11/11/2020|      $150.00 |\n",
      "|          1|             A|           id3|           12/11/2021|      $100.00 |\n",
      "|          2|             B|           id4|           10/11/2019|      $150.00 |\n",
      "|          2|             B|           id5|           11/11/2020|      $200.00 |\n",
      "|          2|             B|           id6|           12/11/2021|      $250.00 |\n",
      "|          3|             C|           id7|             1/1/2018|      $100.00 |\n",
      "|          3|             C|           id8|             5/1/2019|      $250.00 |\n",
      "|          3|             C|           id9|             6/1/2021|      $300.00 |\n",
      "|       null|Missing values|Missing values|                 null|          null|\n",
      "+-----------+--------------+--------------+---------------------+--------------+\n",
      "\n"
     ]
    }
   ],
   "source": [
    "## Filling the missing values\n",
    "df_pyspark.na.fill('Missing values',['customer_name','billing_id']).show()"
   ]
  },
  {
   "cell_type": "code",
   "execution_count": 23,
   "id": "d863da69",
   "metadata": {},
   "outputs": [
    {
     "name": "stdout",
     "output_type": "stream",
     "text": [
      "+-----------+-------------+----------+---------------------+--------------+\n",
      "|customer-id|customer_name|billing_id|billing_creation_date|billing amount|\n",
      "+-----------+-------------+----------+---------------------+--------------+\n",
      "|          1|            A|       id1|           10/10/2020|      $100.00 |\n",
      "|          1|            A|       id2|           11/11/2020|      $150.00 |\n",
      "|          1|            A|       id3|           12/11/2021|      $100.00 |\n",
      "|          2|            B|       id4|           10/11/2019|      $150.00 |\n",
      "|          2|            B|       id5|           11/11/2020|      $200.00 |\n",
      "|          2|            B|       id6|           12/11/2021|      $250.00 |\n",
      "|          3|            C|       id7|             1/1/2018|      $100.00 |\n",
      "|          3|            C|       id8|             5/1/2019|      $250.00 |\n",
      "|          3|            C|       id9|             6/1/2021|      $300.00 |\n",
      "|       null|         null|      null|                 null|          null|\n",
      "+-----------+-------------+----------+---------------------+--------------+\n",
      "\n"
     ]
    }
   ],
   "source": [
    "df_pyspark.show()"
   ]
  },
  {
   "cell_type": "code",
   "execution_count": 37,
   "id": "5ff78856",
   "metadata": {},
   "outputs": [],
   "source": [
    "from pyspark.ml.feature import Imputer\n",
    "imputer = Imputer(\n",
    "    inputCols=['customer-id'],\n",
    "    outputCols=[\"{}_imputed\".format(c) for c in['customer-id']]\n",
    "    ).setStrategy(\"mean\")"
   ]
  },
  {
   "cell_type": "code",
   "execution_count": 38,
   "id": "184f19cc",
   "metadata": {},
   "outputs": [
    {
     "name": "stdout",
     "output_type": "stream",
     "text": [
      "+-----------+-------------+----------+---------------------+--------------+-------------------+\n",
      "|customer-id|customer_name|billing_id|billing_creation_date|billing amount|customer-id_imputed|\n",
      "+-----------+-------------+----------+---------------------+--------------+-------------------+\n",
      "|          1|            A|       id1|           10/10/2020|      $100.00 |                  1|\n",
      "|          1|            A|       id2|           11/11/2020|      $150.00 |                  1|\n",
      "|          1|            A|       id3|           12/11/2021|      $100.00 |                  1|\n",
      "|          2|            B|       id4|           10/11/2019|      $150.00 |                  2|\n",
      "|          2|            B|       id5|           11/11/2020|      $200.00 |                  2|\n",
      "|          2|            B|       id6|           12/11/2021|      $250.00 |                  2|\n",
      "|          3|            C|       id7|             1/1/2018|      $100.00 |                  3|\n",
      "|          3|            C|       id8|             5/1/2019|      $250.00 |                  3|\n",
      "|          3|            C|       id9|             6/1/2021|      $300.00 |                  3|\n",
      "|       null|         null|      null|                 null|          null|                  2|\n",
      "+-----------+-------------+----------+---------------------+--------------+-------------------+\n",
      "\n"
     ]
    }
   ],
   "source": [
    "## Add imputation cols to df\n",
    "imputer.fit(df_pyspark).transform(df_pyspark).show()"
   ]
  },
  {
   "cell_type": "code",
   "execution_count": null,
   "id": "e5de78b5",
   "metadata": {},
   "outputs": [],
   "source": []
  }
 ],
 "metadata": {
  "kernelspec": {
   "display_name": "Python 3 (ipykernel)",
   "language": "python",
   "name": "python3"
  },
  "language_info": {
   "codemirror_mode": {
    "name": "ipython",
    "version": 3
   },
   "file_extension": ".py",
   "mimetype": "text/x-python",
   "name": "python",
   "nbconvert_exporter": "python",
   "pygments_lexer": "ipython3",
   "version": "3.11.3"
  }
 },
 "nbformat": 4,
 "nbformat_minor": 5
}
