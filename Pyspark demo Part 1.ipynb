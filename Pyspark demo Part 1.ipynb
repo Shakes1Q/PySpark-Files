{
 "cells": [
  {
   "cell_type": "code",
   "execution_count": 58,
   "id": "8252de2a",
   "metadata": {},
   "outputs": [],
   "source": [
    "from pyspark.sql import SparkSession"
   ]
  },
  {
   "cell_type": "code",
   "execution_count": 59,
   "id": "0a7542ca",
   "metadata": {},
   "outputs": [],
   "source": [
    "spark = SparkSession.builder.appName('Dataframe').getOrCreate()"
   ]
  },
  {
   "cell_type": "code",
   "execution_count": 81,
   "id": "c3e3df42",
   "metadata": {},
   "outputs": [
    {
     "data": {
      "text/html": [
       "\n",
       "            <div>\n",
       "                <p><b>SparkSession - in-memory</b></p>\n",
       "                \n",
       "        <div>\n",
       "            <p><b>SparkContext</b></p>\n",
       "\n",
       "            <p><a href=\"http://ShakesQ:4041\">Spark UI</a></p>\n",
       "\n",
       "            <dl>\n",
       "              <dt>Version</dt>\n",
       "                <dd><code>v3.4.1</code></dd>\n",
       "              <dt>Master</dt>\n",
       "                <dd><code>local[*]</code></dd>\n",
       "              <dt>AppName</dt>\n",
       "                <dd><code>Dataframe</code></dd>\n",
       "            </dl>\n",
       "        </div>\n",
       "        \n",
       "            </div>\n",
       "        "
      ],
      "text/plain": [
       "<pyspark.sql.session.SparkSession at 0x165430c5ad0>"
      ]
     },
     "execution_count": 81,
     "metadata": {},
     "output_type": "execute_result"
    }
   ],
   "source": [
    "spark"
   ]
  },
  {
   "cell_type": "code",
   "execution_count": 117,
   "id": "9e126992",
   "metadata": {},
   "outputs": [],
   "source": [
    "## read the dataset\n",
    "df_pyspark=spark.read.option('header','true').csv('Apple.csv',inferSchema=True)"
   ]
  },
  {
   "cell_type": "code",
   "execution_count": 109,
   "id": "74ef6e0a",
   "metadata": {},
   "outputs": [
    {
     "name": "stdout",
     "output_type": "stream",
     "text": [
      "root\n",
      " |-- Product Name: string (nullable = true)\n",
      " |-- Shipping costs: string (nullable = true)\n",
      "\n"
     ]
    }
   ],
   "source": [
    "## Check the schema\n",
    "df_pyspark.printSchema()"
   ]
  },
  {
   "cell_type": "code",
   "execution_count": 99,
   "id": "9bba533f",
   "metadata": {},
   "outputs": [
    {
     "name": "stdout",
     "output_type": "stream",
     "text": [
      "+------------+--------------+\n",
      "|Product Name|Shipping costs|\n",
      "+------------+--------------+\n",
      "|      Iphone|            23|\n",
      "|     Macbook|            50|\n",
      "|        Ipad|            34|\n",
      "+------------+--------------+\n",
      "\n"
     ]
    }
   ],
   "source": [
    "df_pyspark=spark.read.csv('Apple.csv',header=True,inferSchema=True)\n",
    "df_pyspark.show()"
   ]
  },
  {
   "cell_type": "code",
   "execution_count": 85,
   "id": "6cea4ab3",
   "metadata": {},
   "outputs": [
    {
     "name": "stdout",
     "output_type": "stream",
     "text": [
      "root\n",
      " |-- Product Name: string (nullable = true)\n",
      " |-- Shipping costs: integer (nullable = true)\n",
      "\n"
     ]
    }
   ],
   "source": [
    "## Check the schema\n",
    "df_pyspark.printSchema()"
   ]
  },
  {
   "cell_type": "code",
   "execution_count": 86,
   "id": "69510db1",
   "metadata": {},
   "outputs": [
    {
     "data": {
      "text/plain": [
       "pyspark.sql.dataframe.DataFrame"
      ]
     },
     "execution_count": 86,
     "metadata": {},
     "output_type": "execute_result"
    }
   ],
   "source": [
    "type(df_pyspark)"
   ]
  },
  {
   "cell_type": "code",
   "execution_count": 123,
   "id": "ec08205e",
   "metadata": {},
   "outputs": [
    {
     "data": {
      "text/plain": [
       "[Row(Product Name='Iphone', Shipping costs=23),\n",
       " Row(Product Name='Macbook', Shipping costs=50),\n",
       " Row(Product Name='Ipad', Shipping costs=34)]"
      ]
     },
     "execution_count": 123,
     "metadata": {},
     "output_type": "execute_result"
    }
   ],
   "source": [
    "df_pyspark.head(3)"
   ]
  },
  {
   "cell_type": "code",
   "execution_count": 88,
   "id": "85eb7484",
   "metadata": {},
   "outputs": [
    {
     "name": "stdout",
     "output_type": "stream",
     "text": [
      "+------------+\n",
      "|Product Name|\n",
      "+------------+\n",
      "|      Iphone|\n",
      "|     Macbook|\n",
      "|        Ipad|\n",
      "+------------+\n",
      "\n"
     ]
    },
    {
     "data": {
      "text/plain": [
       "NoneType"
      ]
     },
     "execution_count": 88,
     "metadata": {},
     "output_type": "execute_result"
    }
   ],
   "source": [
    "type(df_pyspark.select('Product Name').show())"
   ]
  },
  {
   "cell_type": "code",
   "execution_count": 89,
   "id": "b602da3c",
   "metadata": {},
   "outputs": [
    {
     "name": "stdout",
     "output_type": "stream",
     "text": [
      "+------------+--------------+\n",
      "|Product Name|Shipping costs|\n",
      "+------------+--------------+\n",
      "|      Iphone|            23|\n",
      "|     Macbook|            50|\n",
      "|        Ipad|            34|\n",
      "+------------+--------------+\n",
      "\n"
     ]
    }
   ],
   "source": [
    "##selecting columns and indexing\n",
    "df_pyspark.select(['Product Name','Shipping costs']).show()"
   ]
  },
  {
   "cell_type": "code",
   "execution_count": 90,
   "id": "54f1f2ef",
   "metadata": {},
   "outputs": [
    {
     "data": {
      "text/plain": [
       "Column<'Product Name'>"
      ]
     },
     "execution_count": 90,
     "metadata": {},
     "output_type": "execute_result"
    }
   ],
   "source": [
    "df_pyspark['Product Name']"
   ]
  },
  {
   "cell_type": "code",
   "execution_count": 91,
   "id": "feb88787",
   "metadata": {},
   "outputs": [
    {
     "data": {
      "text/plain": [
       "[('Product Name', 'string'), ('Shipping costs', 'int')]"
      ]
     },
     "execution_count": 91,
     "metadata": {},
     "output_type": "execute_result"
    }
   ],
   "source": [
    "df_pyspark.dtypes"
   ]
  },
  {
   "cell_type": "code",
   "execution_count": 121,
   "id": "48ab9781",
   "metadata": {},
   "outputs": [
    {
     "name": "stdout",
     "output_type": "stream",
     "text": [
      "+-------+------------+------------------+\n",
      "|summary|Product Name|    Shipping costs|\n",
      "+-------+------------+------------------+\n",
      "|  count|           3|                 3|\n",
      "|   mean|        null|35.666666666666664|\n",
      "| stddev|        null|13.576941236277534|\n",
      "|    min|        Ipad|                23|\n",
      "|    max|     Macbook|                50|\n",
      "+-------+------------+------------------+\n",
      "\n"
     ]
    }
   ],
   "source": [
    "## Describe option similar to Pandas\n",
    "df_pyspark.describe().show()"
   ]
  },
  {
   "cell_type": "code",
   "execution_count": 111,
   "id": "b548f234",
   "metadata": {},
   "outputs": [
    {
     "name": "stdout",
     "output_type": "stream",
     "text": [
      "+------------+--------------+---------------------------+\n",
      "|Product Name|Shipping costs|Shipping costs After 2 year|\n",
      "+------------+--------------+---------------------------+\n",
      "|      Iphone|            23|                       25.0|\n",
      "|     Macbook|            50|                       52.0|\n",
      "|        Ipad|            34|                       36.0|\n",
      "+------------+--------------+---------------------------+\n",
      "\n"
     ]
    }
   ],
   "source": [
    "## Adding columns in Data Frame\n",
    "df_pyspark.withColumn('Shipping costs After 2 year',df_pyspark['Shipping Costs']+2).show()"
   ]
  },
  {
   "cell_type": "code",
   "execution_count": 112,
   "id": "65080589",
   "metadata": {},
   "outputs": [
    {
     "name": "stdout",
     "output_type": "stream",
     "text": [
      "+------------+--------------+\n",
      "|Product Name|Shipping costs|\n",
      "+------------+--------------+\n",
      "|      Iphone|            23|\n",
      "|     Macbook|            50|\n",
      "|        Ipad|            34|\n",
      "+------------+--------------+\n",
      "\n"
     ]
    }
   ],
   "source": [
    "## Drop the columns\n",
    "df_pyspark=df_pyspark.drop('Shipping costs After 2 year').show()"
   ]
  },
  {
   "cell_type": "code",
   "execution_count": 118,
   "id": "d087594f",
   "metadata": {},
   "outputs": [
    {
     "name": "stdout",
     "output_type": "stream",
     "text": [
      "+------------+--------------+\n",
      "|Product Name|Shipping costs|\n",
      "+------------+--------------+\n",
      "|      Iphone|            23|\n",
      "|     Macbook|            50|\n",
      "|        Ipad|            34|\n",
      "+------------+--------------+\n",
      "\n"
     ]
    }
   ],
   "source": [
    "df_pyspark.show()"
   ]
  },
  {
   "cell_type": "code",
   "execution_count": 122,
   "id": "46d5e0b3",
   "metadata": {},
   "outputs": [
    {
     "name": "stdout",
     "output_type": "stream",
     "text": [
      "+-------+--------------+\n",
      "|   Name|Shipping costs|\n",
      "+-------+--------------+\n",
      "| Iphone|            23|\n",
      "|Macbook|            50|\n",
      "|   Ipad|            34|\n",
      "+-------+--------------+\n",
      "\n"
     ]
    }
   ],
   "source": [
    "## Rename the columns\n",
    "df_pyspark.withColumnRenamed('Product Name','Name').show()"
   ]
  },
  {
   "cell_type": "code",
   "execution_count": null,
   "id": "ecd15434",
   "metadata": {},
   "outputs": [],
   "source": []
  },
  {
   "cell_type": "code",
   "execution_count": null,
   "id": "01ac5ac0",
   "metadata": {},
   "outputs": [],
   "source": []
  },
  {
   "cell_type": "code",
   "execution_count": null,
   "id": "1bb72dc3",
   "metadata": {},
   "outputs": [],
   "source": []
  },
  {
   "cell_type": "code",
   "execution_count": null,
   "id": "6239c31b",
   "metadata": {},
   "outputs": [],
   "source": []
  }
 ],
 "metadata": {
  "kernelspec": {
   "display_name": "Python 3 (ipykernel)",
   "language": "python",
   "name": "python3"
  },
  "language_info": {
   "codemirror_mode": {
    "name": "ipython",
    "version": 3
   },
   "file_extension": ".py",
   "mimetype": "text/x-python",
   "name": "python",
   "nbconvert_exporter": "python",
   "pygments_lexer": "ipython3",
   "version": "3.11.3"
  }
 },
 "nbformat": 4,
 "nbformat_minor": 5
}
